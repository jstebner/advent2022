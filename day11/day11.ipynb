{
 "cells": [
  {
   "attachments": {},
   "cell_type": "markdown",
   "metadata": {},
   "source": [
    "# Part 1"
   ]
  },
  {
   "cell_type": "code",
   "execution_count": 1,
   "metadata": {},
   "outputs": [],
   "source": [
    "data = open(\"input.txt\").read()[:-1].split('\\n\\n')\n",
    "# print(data[:5])"
   ]
  },
  {
   "cell_type": "code",
   "execution_count": 18,
   "metadata": {},
   "outputs": [],
   "source": [
    "class Monkey:\n",
    "    def __init__(self, items, op, test, T, F, decay):\n",
    "        self.items  = list(map(int, items.split(': ')[1].split(\", \")))\n",
    "        self.op     = op.split('= ')[1]\n",
    "        self.test   = int(test.split('by ')[1])\n",
    "        self.T      = int(T.split('monkey ')[1])\n",
    "        self.F      = int(F.split('monkey ')[1])\n",
    "        self.decay  = (lambda x: x // int(decay[1:])) if decay[0] == '/' else \\\n",
    "                      (lambda x: x % int(decay[1:]))\n",
    "        self.inspects = 0\n",
    "\n",
    "    def catch(self, val):\n",
    "        self.items.append(val)\n",
    "    \n",
    "    def activity(self):\n",
    "        return self.inspects\n",
    "    \n",
    "    def turn(self) -> list[ tuple[ int, int ] ]:\n",
    "        volley = list()\n",
    "        while self.items:\n",
    "            self.inspects += 1\n",
    "            item = self.items.pop(0)\n",
    "            item = self.decay(eval(self.op.replace('old', str(item))))\n",
    "            volley.append(\n",
    "                (\n",
    "                    self.T if item % self.test == 0 else self.F, \n",
    "                    item\n",
    "                )\n",
    "            )\n",
    "        return volley\n",
    "\n",
    "class Monkeys:\n",
    "    def __init__(self, data, decay_formula):\n",
    "        self.monkeys = list()\n",
    "        for monkey_input in data:\n",
    "            args = list(map(\n",
    "                lambda x: x.strip(), \n",
    "                monkey_input.split('\\n')[1:]\n",
    "                ))\n",
    "            self.monkeys.append(\n",
    "                Monkey(*args, decay_formula)\n",
    "                )\n",
    "        \n",
    "    def round(self):\n",
    "        for monkey in self.monkeys:\n",
    "            volley = monkey.turn()\n",
    "            for idx, val in volley:\n",
    "                self.monkeys[idx].catch(val)\n",
    "    \n",
    "    def run(self, rounds):\n",
    "        for _ in range(rounds):\n",
    "            self.round()\n",
    "    \n",
    "    def monkey_business(self):\n",
    "        top_2 = [0, 0]\n",
    "        for monkey in self.monkeys:\n",
    "            top_2.append(monkey.activity())\n",
    "            top_2.remove(min(top_2))\n",
    "        return top_2[0]*top_2[1]"
   ]
  },
  {
   "cell_type": "code",
   "execution_count": 19,
   "metadata": {},
   "outputs": [
    {
     "name": "stdout",
     "output_type": "stream",
     "text": [
      "316888\n"
     ]
    }
   ],
   "source": [
    "monkeys = Monkeys(data, '/3')\n",
    "monkeys.run(20)\n",
    "print(monkeys.monkey_business())"
   ]
  },
  {
   "attachments": {},
   "cell_type": "markdown",
   "metadata": {},
   "source": [
    "# Part 2"
   ]
  },
  {
   "cell_type": "code",
   "execution_count": 20,
   "metadata": {},
   "outputs": [
    {
     "name": "stdout",
     "output_type": "stream",
     "text": [
      "35270398814\n"
     ]
    }
   ],
   "source": [
    "# added a decay rate formula to monkeys and monkey classes\n",
    "rate = 1\n",
    "for monkey in data:\n",
    "    test = int(monkey.split('divisible by ')[1].split()[0])\n",
    "    rate *= test\n",
    "\n",
    "monkeys = Monkeys(data, f'%{rate}')\n",
    "monkeys.run(10000)\n",
    "print(monkeys.monkey_business())"
   ]
  }
 ],
 "metadata": {
  "kernelspec": {
   "display_name": "Python 3",
   "language": "python",
   "name": "python3"
  },
  "language_info": {
   "codemirror_mode": {
    "name": "ipython",
    "version": 3
   },
   "file_extension": ".py",
   "mimetype": "text/x-python",
   "name": "python",
   "nbconvert_exporter": "python",
   "pygments_lexer": "ipython3",
   "version": "3.11.0 (main, Oct 24 2022, 18:26:48) [MSC v.1933 64 bit (AMD64)]"
  },
  "orig_nbformat": 4,
  "vscode": {
   "interpreter": {
    "hash": "11c9a8d9d183678ada4733d405ee5173ac35a7c5e5bcce99b2c90cd82f22ae56"
   }
  }
 },
 "nbformat": 4,
 "nbformat_minor": 2
}

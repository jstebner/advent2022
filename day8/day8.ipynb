{
 "cells": [
  {
   "attachments": {},
   "cell_type": "markdown",
   "metadata": {},
   "source": [
    "# Part 1"
   ]
  },
  {
   "cell_type": "code",
   "execution_count": 2,
   "metadata": {},
   "outputs": [
    {
     "name": "stdout",
     "output_type": "stream",
     "text": [
      "['121212011303121030310342042402330124244111344151215543452341031241241020400101112013333020112100012', '021211021113201200034023433130134132413414155334115143443355322133444324121312404302011201132211211', '112100131112221303204244242431121003451531135255455445141455432541312201002214304203010313110102221', '020110213013113103013204332232423553543445433222155153431441144442133012114241240204113022033210212', '220211123123023221431120203212535513244235435131233452411353515142141342420233430124211033211103201']\n"
     ]
    }
   ],
   "source": [
    "data = open(\"input.txt\").read()[:-1].split(\"\\n\")\n",
    "height = len(data)\n",
    "width = len(data[0])\n",
    "print(data[:5])"
   ]
  },
  {
   "cell_type": "code",
   "execution_count": 115,
   "metadata": {},
   "outputs": [
    {
     "name": "stdout",
     "output_type": "stream",
     "text": [
      "1801\n",
      "1801\n"
     ]
    }
   ],
   "source": [
    "visible = 0\n",
    "for r,c in [(r,c) for r in range(height) for c in range(width)]:\n",
    "    if r in [0, height-1] or c in [0, width-1]:\n",
    "        visible += 1\n",
    "        continue\n",
    "    if any(map(\n",
    "        lambda x: data[r][c] > max(x), \n",
    "        [\n",
    "            data[r][:c],   # from left\n",
    "            data[r][c+1:], # from right\n",
    "            [data[y][c] for y in range(r)], # from top\n",
    "            [data[y][c] for y in range(r+1, height)] # from bottom\n",
    "        ]\n",
    "        )):\n",
    "        visible += 1\n",
    "print(visible)\n",
    "\n",
    "# dont mind this\n",
    "print(sum([1 for r,c in [(r,c) for r in range(len(data)) for c in range(len(data[0]))] if r in [0, len(data)-1] or c in [0, len(data[0])-1] or any(map(\n",
    "        lambda x: data[r][c] > max(x), \n",
    "        [\n",
    "            data[r][:c],   # from left\n",
    "            data[r][c+1:], # from right\n",
    "            [data[y][c] for y in range(r)], # from top\n",
    "            [data[y][c] for y in range(r+1, len(data))] # from bottom\n",
    "        ]\n",
    "        ))]))"
   ]
  },
  {
   "attachments": {},
   "cell_type": "markdown",
   "metadata": {},
   "source": [
    "# Part 2"
   ]
  },
  {
   "cell_type": "code",
   "execution_count": 3,
   "metadata": {},
   "outputs": [
    {
     "name": "stdout",
     "output_type": "stream",
     "text": [
      "209880\n",
      "209880\n"
     ]
    }
   ],
   "source": [
    "# yes its recursive, no i dont care\n",
    "def score(y, x, h, d):\n",
    "    return 0 if -1 in [y+d[0],x+d[1]] or y+d[0] == height or x+d[1] == width \\\n",
    "            else 1 if int(data[y+d[0]][x+d[1]]) >= h \\\n",
    "            else 1 + score(y+d[0], x+d[1], h, d)\n",
    "            \n",
    "max_scenicscore = 0\n",
    "for r,c in [(r,c) for r in range(height) for c in range(width)]:\n",
    "    scenic_score = 1\n",
    "    for d in [(-1,0),(1,0),(0,-1),(0,1)]:\n",
    "        scenic_score *= score(r,c,int(data[r][c]),d)\n",
    "    max_scenicscore = max(max_scenicscore, scenic_score)\n",
    "print(max_scenicscore)\n",
    "\n",
    "# what on gods green earth have i done\n",
    "print(\n",
    "    max([\n",
    "            (lambda f: lambda *a: f(f,*a))\n",
    "            (lambda rec, l: 1 if len(l) == 0 else l[0]*rec(rec, l[1:]))\n",
    "            (list(map(\n",
    "                lambda d: \n",
    "                    (lambda f: lambda *a: f(f, *a))\n",
    "                    (\n",
    "                        lambda rec, y, x, h, d: 0 if -1 in [y+d[0],x+d[1]] or y+d[0] == len(data) or x+d[1] == len(data[0])\n",
    "                        else 1 if int(data[y+d[0]][x+d[1]]) >= h\n",
    "                        else 1 + rec(rec, y+d[0], x+d[1], h, d)\n",
    "                    )\n",
    "                    (r, c, int(data[r][c]), d), \n",
    "                [(-1,0),(1,0),(0,-1),(0,1)]\n",
    "            )))\n",
    "            for r,c in [(r,c) for r in range(len(data)) for c in range(len(data[0]))]\n",
    "        ])\n",
    "    )"
   ]
  }
 ],
 "metadata": {
  "kernelspec": {
   "display_name": "Python 3",
   "language": "python",
   "name": "python3"
  },
  "language_info": {
   "codemirror_mode": {
    "name": "ipython",
    "version": 3
   },
   "file_extension": ".py",
   "mimetype": "text/x-python",
   "name": "python",
   "nbconvert_exporter": "python",
   "pygments_lexer": "ipython3",
   "version": "3.11.0"
  },
  "orig_nbformat": 4,
  "vscode": {
   "interpreter": {
    "hash": "11c9a8d9d183678ada4733d405ee5173ac35a7c5e5bcce99b2c90cd82f22ae56"
   }
  }
 },
 "nbformat": 4,
 "nbformat_minor": 2
}

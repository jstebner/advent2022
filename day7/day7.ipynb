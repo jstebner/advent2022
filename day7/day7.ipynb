{
 "cells": [
  {
   "attachments": {},
   "cell_type": "markdown",
   "metadata": {},
   "source": [
    "# Part 1"
   ]
  },
  {
   "cell_type": "code",
   "execution_count": 57,
   "metadata": {},
   "outputs": [
    {
     "name": "stdout",
     "output_type": "stream",
     "text": [
      "$ cd /\n",
      "$ ls\n",
      "dir cvt\n",
      "4967 hcqbmwc.gts\n",
      "5512 hsbhwb.clj\n"
     ]
    }
   ],
   "source": [
    "data = open(\"input.txt\").read()[:-1].split(\"\\n\")\n",
    "\n",
    "print('\\n'.join(data[:5])) # \"df.head()\""
   ]
  },
  {
   "cell_type": "code",
   "execution_count": 59,
   "metadata": {},
   "outputs": [
    {
     "name": "stdout",
     "output_type": "stream",
     "text": [
      "1390824\n"
     ]
    }
   ],
   "source": [
    "# yes, this code is ugly as hell. no, i dont care\n",
    "# i just didnt wanna build a whole ass datastruct to hold this info\n",
    "cwd = str()\n",
    "dirs = dict()\n",
    "first_ls = False\n",
    "for line in data:\n",
    "    line = line.split()\n",
    "    match line[0]:\n",
    "        case '$': # $ {cmd} {arg}\n",
    "            first_ls = False\n",
    "            match line[1]:\n",
    "                case 'cd': # $ cd {dir}\n",
    "                    match line[2]:\n",
    "                        case '/': # cd dir\n",
    "                            cwd = 'root'\n",
    "                        case '..':\n",
    "                            cwd = cwd[::-1][:cwd[::-1].index('/'):-1] # removes last dir\n",
    "                        case _: # cd {subdir}\n",
    "                            cwd += '/'+line[2]\n",
    "                case 'ls': # $ ls\n",
    "                    continue # we do not care\n",
    "        case _: # {size}/dir {name}\n",
    "            if cwd not in dirs:\n",
    "                dirs[cwd] = 0\n",
    "                first_ls = True\n",
    "            if first_ls and line[0].isnumeric():\n",
    "                for depth in range(cwd.count('/')+1):\n",
    "                    dirs[\"/\".join(cwd.split('/')[:depth+1])] += int(line[0])\n",
    "\n",
    "print(sum(list(filter(lambda x: x<=100000, dirs.values()))))"
   ]
  },
  {
   "attachments": {},
   "cell_type": "markdown",
   "metadata": {},
   "source": [
    "# Part 2"
   ]
  },
  {
   "cell_type": "code",
   "execution_count": 63,
   "metadata": {},
   "outputs": [
    {
     "name": "stdout",
     "output_type": "stream",
     "text": [
      "7490863\n"
     ]
    }
   ],
   "source": [
    "print(sorted(filter(lambda x: x >= dirs['root'] - 40000000, dirs.values()))[0])"
   ]
  }
 ],
 "metadata": {
  "kernelspec": {
   "display_name": "Python 3",
   "language": "python",
   "name": "python3"
  },
  "language_info": {
   "codemirror_mode": {
    "name": "ipython",
    "version": 3
   },
   "file_extension": ".py",
   "mimetype": "text/x-python",
   "name": "python",
   "nbconvert_exporter": "python",
   "pygments_lexer": "ipython3",
   "version": "3.11.0"
  },
  "orig_nbformat": 4,
  "vscode": {
   "interpreter": {
    "hash": "11c9a8d9d183678ada4733d405ee5173ac35a7c5e5bcce99b2c90cd82f22ae56"
   }
  }
 },
 "nbformat": 4,
 "nbformat_minor": 2
}

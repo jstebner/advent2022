{
 "cells": [
  {
   "cell_type": "markdown",
   "metadata": {},
   "source": [
    "# Part 1"
   ]
  },
  {
   "cell_type": "code",
   "execution_count": 4,
   "metadata": {},
   "outputs": [],
   "source": [
    "data = open(\"input.txt\").read().split(\"\\n\")[:-1]"
   ]
  },
  {
   "cell_type": "code",
   "execution_count": 7,
   "metadata": {},
   "outputs": [
    {
     "name": "stdout",
     "output_type": "stream",
     "text": [
      "10404\n"
     ]
    }
   ],
   "source": [
    "# A, X = rock\n",
    "# B, Y = paper\n",
    "# C, Z = scissor\n",
    "def score1(turn) -> int:\n",
    "    ret = {\"X\":1, \"Y\":2, \"Z\":3}[turn[-1]]\n",
    "    if turn in [\"A Y\",\"B Z\", \"C X\"]: # me win\n",
    "        ret += 6\n",
    "    elif turn in [\"A X\", \"B Y\", \"C Z\"]: # draw\n",
    "        ret += 3\n",
    "    return ret\n",
    "\n",
    "print(sum(map(score1, data)))"
   ]
  },
  {
   "cell_type": "markdown",
   "metadata": {},
   "source": [
    "# Part 2"
   ]
  },
  {
   "cell_type": "code",
   "execution_count": 8,
   "metadata": {},
   "outputs": [
    {
     "name": "stdout",
     "output_type": "stream",
     "text": [
      "10334\n"
     ]
    }
   ],
   "source": [
    "# A = rock\n",
    "# B = paper\n",
    "# C = scissor\n",
    "# X = lose\n",
    "# Y = draw\n",
    "# Z = win\n",
    "\n",
    "def score2(turn):\n",
    "    ret = {\"X\":0, \"Y\":3, \"Z\":6}[turn[-1]]\n",
    "    if turn in [\"A Y\", \"B X\", \"C Z\"]: # rock\n",
    "        ret += 1\n",
    "    elif turn in [\"A Z\", \"B Y\", \"C X\"]: # paper\n",
    "        ret += 2\n",
    "    else: # scissor\n",
    "        ret += 3\n",
    "    return ret\n",
    "\n",
    "print(sum(map(score2, data)))"
   ]
  }
 ],
 "metadata": {
  "kernelspec": {
   "display_name": "Python 3.11.0 64-bit",
   "language": "python",
   "name": "python3"
  },
  "language_info": {
   "codemirror_mode": {
    "name": "ipython",
    "version": 3
   },
   "file_extension": ".py",
   "mimetype": "text/x-python",
   "name": "python",
   "nbconvert_exporter": "python",
   "pygments_lexer": "ipython3",
   "version": "3.11.0"
  },
  "orig_nbformat": 4,
  "vscode": {
   "interpreter": {
    "hash": "11c9a8d9d183678ada4733d405ee5173ac35a7c5e5bcce99b2c90cd82f22ae56"
   }
  }
 },
 "nbformat": 4,
 "nbformat_minor": 2
}

{
 "cells": [
  {
   "cell_type": "markdown",
   "metadata": {},
   "source": [
    "# Part 1"
   ]
  },
  {
   "cell_type": "code",
   "execution_count": 1,
   "metadata": {},
   "outputs": [],
   "source": [
    "data = open(\"input.txt\").read().split(\"\\n\")[:-1]"
   ]
  },
  {
   "cell_type": "code",
   "execution_count": 54,
   "metadata": {},
   "outputs": [
    {
     "name": "stdout",
     "output_type": "stream",
     "text": [
      "10404\n"
     ]
    }
   ],
   "source": [
    "# A, X = rock\n",
    "# B, Y = paper\n",
    "# C, Z = scissor\n",
    "def score1(inp) -> int:\n",
    "    p1 = {\"A\":0, \"B\":1, \"C\":2}[inp[0]]\n",
    "    p2 = {\"X\":0, \"Y\":1, \"Z\":2}[inp[-1]]\n",
    "    return 1 + p2 + (p2-p1+4)%3*3\n",
    "\n",
    "print(sum(map(score1, data)))"
   ]
  },
  {
   "cell_type": "markdown",
   "metadata": {},
   "source": [
    "# Part 2"
   ]
  },
  {
   "cell_type": "code",
   "execution_count": 66,
   "metadata": {},
   "outputs": [
    {
     "name": "stdout",
     "output_type": "stream",
     "text": [
      "10334\n"
     ]
    }
   ],
   "source": [
    "# A = rock\n",
    "# B = paper\n",
    "# C = scissor\n",
    "# X = lose\n",
    "# Y = draw\n",
    "# Z = win\n",
    "\n",
    "def score2(inp):\n",
    "    p1 = {\"A\":0, \"B\":1, \"C\":2}[inp[0]]\n",
    "    p2 = {\"X\":0, \"Y\":1, \"Z\":2}[inp[-1]]\n",
    "    return 3*p2 + 1 + (p1+(p2+2)%3)%3\n",
    "\n",
    "print(sum(map(score2, data)))"
   ]
  }
 ],
 "metadata": {
  "kernelspec": {
   "display_name": "Python 3.11.0 64-bit",
   "language": "python",
   "name": "python3"
  },
  "language_info": {
   "codemirror_mode": {
    "name": "ipython",
    "version": 3
   },
   "file_extension": ".py",
   "mimetype": "text/x-python",
   "name": "python",
   "nbconvert_exporter": "python",
   "pygments_lexer": "ipython3",
   "version": "3.11.0"
  },
  "orig_nbformat": 4,
  "vscode": {
   "interpreter": {
    "hash": "11c9a8d9d183678ada4733d405ee5173ac35a7c5e5bcce99b2c90cd82f22ae56"
   }
  }
 },
 "nbformat": 4,
 "nbformat_minor": 2
}

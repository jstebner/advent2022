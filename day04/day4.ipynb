{
 "cells": [
  {
   "cell_type": "markdown",
   "metadata": {},
   "source": [
    "# Part 1"
   ]
  },
  {
   "cell_type": "code",
   "execution_count": 1,
   "metadata": {},
   "outputs": [],
   "source": [
    "data = open('input.txt').read()[:-1].split('\\n')"
   ]
  },
  {
   "cell_type": "code",
   "execution_count": 16,
   "metadata": {},
   "outputs": [
    {
     "name": "stdout",
     "output_type": "stream",
     "text": [
      "485\n"
     ]
    }
   ],
   "source": [
    "def in_range(num, rnge):\n",
    "    return num >= rnge[0] and num <= rnge[1]\n",
    "\n",
    "def inside(pair):\n",
    "    rnge = [[int(num) for num in rnge.split('-')] for rnge in pair.split(',')]\n",
    "    \n",
    "    # i dislike this but oh well\n",
    "    return rnge[0][0] >= rnge[1][0] and rnge[0][1] <= rnge[1][1] or rnge[0][1] >= rnge[1][1] and rnge[0][0] <= rnge[1][0]\n",
    "\n",
    "print(\n",
    "    len(\n",
    "        list(filter(\n",
    "            inside, \n",
    "            data\n",
    "            )\n",
    "        ))\n",
    "    )"
   ]
  },
  {
   "cell_type": "markdown",
   "metadata": {},
   "source": [
    "# Part 2"
   ]
  },
  {
   "cell_type": "code",
   "execution_count": 15,
   "metadata": {},
   "outputs": [
    {
     "name": "stdout",
     "output_type": "stream",
     "text": [
      "857\n"
     ]
    }
   ],
   "source": [
    "def overlap(pair):\n",
    "    rnge = [[int(num) for num in rnge.split('-')] for rnge in pair.split(',')]\n",
    "        \n",
    "    # ik this can be turned into some neat simple alg but i dont feel like it today\n",
    "    return any(\n",
    "        [in_range(rnge[0][0], rnge[1]),\n",
    "         in_range(rnge[0][1], rnge[1]),\n",
    "         in_range(rnge[1][0], rnge[0]),\n",
    "         in_range(rnge[1][1], rnge[0]),\n",
    "         ]\n",
    "        )\n",
    "\n",
    "print(\n",
    "    len(\n",
    "        list(filter(\n",
    "            overlap, \n",
    "            data\n",
    "            )\n",
    "        ))\n",
    "    )"
   ]
  }
 ],
 "metadata": {
  "kernelspec": {
   "display_name": "Python 3.11.0 64-bit",
   "language": "python",
   "name": "python3"
  },
  "language_info": {
   "codemirror_mode": {
    "name": "ipython",
    "version": 3
   },
   "file_extension": ".py",
   "mimetype": "text/x-python",
   "name": "python",
   "nbconvert_exporter": "python",
   "pygments_lexer": "ipython3",
   "version": "3.11.0"
  },
  "orig_nbformat": 4,
  "vscode": {
   "interpreter": {
    "hash": "11c9a8d9d183678ada4733d405ee5173ac35a7c5e5bcce99b2c90cd82f22ae56"
   }
  }
 },
 "nbformat": 4,
 "nbformat_minor": 2
}

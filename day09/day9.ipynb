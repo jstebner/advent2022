{
 "cells": [
  {
   "attachments": {},
   "cell_type": "markdown",
   "metadata": {},
   "source": [
    "# Part 1"
   ]
  },
  {
   "cell_type": "code",
   "execution_count": 6,
   "metadata": {},
   "outputs": [
    {
     "name": "stdout",
     "output_type": "stream",
     "text": [
      "['R 2', 'D 2', 'U 2', 'D 1', 'L 1']\n"
     ]
    }
   ],
   "source": [
    "data = open(\"input.txt\").read()[:-1].split(\"\\n\")\n",
    "print(data[:5])"
   ]
  },
  {
   "cell_type": "code",
   "execution_count": 7,
   "metadata": {},
   "outputs": [],
   "source": [
    "class Board:\n",
    "    def __init__(self):\n",
    "        self.board = [['H']]\n",
    "        self.H = [0,0]\n",
    "        self.T = [0,0]\n",
    "        self.dim = [1,1]\n",
    "        self.H_on_seen = False\n",
    "    \n",
    "    def __str__(self):\n",
    "        return \"\\n\".join([\"\".join(row) for row in self.board])\n",
    "\n",
    "    def perform(self, cmd):\n",
    "        direction, distance = cmd.split()\n",
    "        distance = int(distance)\n",
    "        match(direction):\n",
    "            case \"R\":\n",
    "                for _ in range(distance):\n",
    "                    self.move((0,1))\n",
    "            case \"L\":\n",
    "                for _ in range(distance):\n",
    "                    self.move((0,-1))\n",
    "            case \"U\":\n",
    "                for _ in range(distance):\n",
    "                    self.move((-1,0))\n",
    "            case \"D\":\n",
    "                for _ in range(distance):\n",
    "                    self.move((1,0))\n",
    "    \n",
    "    def process(self, commands):\n",
    "        for command in commands:\n",
    "            self.perform(command)\n",
    "    \n",
    "    def move(self, ofst):\n",
    "        new_H = [self.H[0]+ofst[0], self.H[1]+ofst[1]]\n",
    "        \n",
    "        if new_H[0] == -1:\n",
    "            self.expand_up()\n",
    "            new_H[0] = 0\n",
    "            \n",
    "        elif new_H[0] == self.dim[0]:\n",
    "            self.expand_down()\n",
    "\n",
    "        elif new_H[1] == -1:\n",
    "            self.expand_left()\n",
    "            new_H[1] = 0\n",
    "\n",
    "        elif new_H[1] == self.dim[1]:\n",
    "            self.expand_right()\n",
    "        \n",
    "        if 2 in [abs(new_H[i]-self.T[i]) for i in [0,1]]:\n",
    "            self.board[self.T[0]][self.T[1]] = '#'\n",
    "            self.board[self.H[0]][self.H[1]] = 'T'\n",
    "            self.T[0] = self.H[0]\n",
    "            self.T[1] = self.H[1]\n",
    "        else:\n",
    "            if self.H_on_seen:\n",
    "                self.board[self.H[0]][self.H[1]] = '#'\n",
    "            else:\n",
    "                self.board[self.H[0]][self.H[1]] = '.'\n",
    "        \n",
    "        self.H[0] = new_H[0]\n",
    "        self.H[1] = new_H[1]\n",
    "        if self.board[self.H[0]][self.H[1]] in ['#','T']:\n",
    "            self.H_on_seen = True\n",
    "        else:\n",
    "            self.H_on_seen = False\n",
    "        self.board[self.H[0]][self.H[1]] = 'H'\n",
    "    \n",
    "    def expand_up(self):\n",
    "        self.board.insert(0,['.']*self.dim[1])\n",
    "        self.dim[0] += 1\n",
    "        self.T[0] += 1\n",
    "        self.H[0] += 1\n",
    "        \n",
    "    def expand_down(self):\n",
    "        self.board.append(['.']*self.dim[1])\n",
    "        self.dim[0] += 1\n",
    "\n",
    "    def expand_left(self):\n",
    "        for row in self.board:\n",
    "            row.insert(0,'.')\n",
    "        self.dim[1] += 1\n",
    "        self.T[1] += 1\n",
    "        self.H[1] += 1\n",
    "    \n",
    "    def expand_right(self):\n",
    "        for row in self.board:\n",
    "            row.append('.')\n",
    "        self.dim[1] += 1\n",
    "    \n",
    "    def count(self):\n",
    "        return sum([row.count('#') for row in self.board]) + self.H_on_seen + (self.H != self.T)"
   ]
  },
  {
   "cell_type": "code",
   "execution_count": 8,
   "metadata": {},
   "outputs": [
    {
     "name": "stdout",
     "output_type": "stream",
     "text": [
      "6243\n"
     ]
    }
   ],
   "source": [
    "board = Board()\n",
    "board.process(data)\n",
    "print(board.count())"
   ]
  },
  {
   "attachments": {},
   "cell_type": "markdown",
   "metadata": {},
   "source": [
    "# Part 2"
   ]
  },
  {
   "cell_type": "code",
   "execution_count": 9,
   "metadata": {},
   "outputs": [],
   "source": [
    "# remade this since i had a better idea for implementation\n",
    "# UPDATE: holy shit this is so much better\n",
    "class Rope:\n",
    "    def __init__(self, length):\n",
    "        self.visited = {(0,0)}\n",
    "        # self.knots = [[0,0]]*length\n",
    "        self.knots = [[0,0] for _ in range(length)] # god i hate how array pointers work sometimes\n",
    "        self.dims = [0]*4\n",
    "    \n",
    "    def __len__(self):\n",
    "        return len(self.knots)\n",
    "    \n",
    "    def count(self):\n",
    "        return len(self.visited)\n",
    "    \n",
    "    def perform(self, cmd):\n",
    "        direction, distance = cmd.split()\n",
    "        distance = int(distance)\n",
    "        match(direction):\n",
    "            case \"R\":\n",
    "                for _ in range(distance):\n",
    "                    self.__move((0,1))\n",
    "            case \"L\":\n",
    "                for _ in range(distance):\n",
    "                    self.__move((0,-1))\n",
    "            case \"U\":\n",
    "                for _ in range(distance):\n",
    "                    self.__move((-1,0))\n",
    "            case \"D\":\n",
    "                for _ in range(distance):\n",
    "                    self.__move((1,0))\n",
    "    \n",
    "    def process(self, commands):\n",
    "        for command in commands:\n",
    "            # print('\\t', command)\n",
    "            self.perform(command)\n",
    "    \n",
    "    def __str__(self):\n",
    "        board = ''\n",
    "        for i in range(self.dims[2], self.dims[1]+1):\n",
    "            row = ''\n",
    "            for j in range(self.dims[0], self.dims[3]+1):\n",
    "                if [i,j] in self.knots:\n",
    "                    row += str(self.knots.index([i,j]))\n",
    "                elif (i,j) in self.visited:\n",
    "                    row += '#'\n",
    "                else:\n",
    "                    row += '.'\n",
    "            board += row + '\\n'\n",
    "        return board\n",
    "    \n",
    "    def __move(self, ofst):\n",
    "        self.knots[0][0] += ofst[0]\n",
    "        self.knots[0][1] += ofst[1]\n",
    "        \n",
    "        if self.knots[0][0] < self.dims[2]:\n",
    "            self.dims[2] = self.knots[0][0]\n",
    "        elif self.knots[0][0] > self.dims[1]:\n",
    "            self.dims[1] = self.knots[0][0]\n",
    "        elif self.knots[0][1] < self.dims[0]:\n",
    "            self.dims[0] = self.knots[0][1]\n",
    "        elif self.knots[0][1] > self.dims[3]:\n",
    "            self.dims[3] = self.knots[0][1]\n",
    "        \n",
    "        for i in range(1, len(self)):\n",
    "            displacement = [self.knots[i-1][0] - self.knots[i][0], self.knots[i-1][1] - self.knots[i][1]]\n",
    "            schmove = False # this can prob be done better but im tired\n",
    "            for axis in [0,1]:\n",
    "                if abs(displacement[axis]) == 2:\n",
    "                    displacement[axis] //= 2\n",
    "                    schmove = True\n",
    "            if schmove:\n",
    "                self.knots[i][0] += displacement[0]\n",
    "                self.knots[i][1] += displacement[1]\n",
    "                    \n",
    "        # print(self)\n",
    "        self.visited.add(tuple(self.knots[-1]))"
   ]
  },
  {
   "cell_type": "code",
   "execution_count": 11,
   "metadata": {},
   "outputs": [
    {
     "name": "stdout",
     "output_type": "stream",
     "text": [
      "2630\n"
     ]
    }
   ],
   "source": [
    "rope = Rope(10)\n",
    "rope.process(data)\n",
    "print(rope.count())\n",
    "# print(rope)"
   ]
  }
 ],
 "metadata": {
  "kernelspec": {
   "display_name": "Python 3",
   "language": "python",
   "name": "python3"
  },
  "language_info": {
   "codemirror_mode": {
    "name": "ipython",
    "version": 3
   },
   "file_extension": ".py",
   "mimetype": "text/x-python",
   "name": "python",
   "nbconvert_exporter": "python",
   "pygments_lexer": "ipython3",
   "version": "3.11.0"
  },
  "orig_nbformat": 4,
  "vscode": {
   "interpreter": {
    "hash": "11c9a8d9d183678ada4733d405ee5173ac35a7c5e5bcce99b2c90cd82f22ae56"
   }
  }
 },
 "nbformat": 4,
 "nbformat_minor": 2
}

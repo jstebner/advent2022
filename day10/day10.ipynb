{
 "cells": [
  {
   "attachments": {},
   "cell_type": "markdown",
   "metadata": {},
   "source": [
    "# Part 1"
   ]
  },
  {
   "cell_type": "code",
   "execution_count": 39,
   "metadata": {},
   "outputs": [
    {
     "name": "stdout",
     "output_type": "stream",
     "text": [
      "['addx 1', 'addx 5', 'noop', 'addx -1', 'noop']\n"
     ]
    }
   ],
   "source": [
    "data = open(\"input.txt\").read()[:-1].split(\"\\n\")\n",
    "print(data[:5])"
   ]
  },
  {
   "cell_type": "code",
   "execution_count": 40,
   "metadata": {},
   "outputs": [
    {
     "name": "stdout",
     "output_type": "stream",
     "text": [
      "17840\n"
     ]
    }
   ],
   "source": [
    "x = 1\n",
    "cycle = 0\n",
    "i = 0\n",
    "strengths = []\n",
    "wait = 0\n",
    "while(i < len(data) or wait != 0):\n",
    "    cycle += 1\n",
    "    if (cycle+20)%40 == 0:\n",
    "        strengths.append(cycle*x)\n",
    "    if wait:\n",
    "        wait -= 1\n",
    "        x += int(cmd[1])\n",
    "        continue\n",
    "    cmd = data[i].split()\n",
    "    if cmd[0] == 'addx':\n",
    "        wait = 1\n",
    "    i += 1\n",
    "\n",
    "print(sum(strengths))"
   ]
  },
  {
   "attachments": {},
   "cell_type": "markdown",
   "metadata": {},
   "source": [
    "# Part 2"
   ]
  },
  {
   "cell_type": "code",
   "execution_count": 46,
   "metadata": {},
   "outputs": [
    {
     "name": "stdout",
     "output_type": "stream",
     "text": [
      "\n",
      "####..##..#.....##..#..#.#....###...##..\n",
      "#....#..#.#....#..#.#..#.#....#..#.#..#.\n",
      "###..#..#.#....#....#..#.#....#..#.#....\n",
      "#....####.#....#.##.#..#.#....###..#.##.\n",
      "#....#..#.#....#..#.#..#.#....#....#..#.\n",
      "####.#..#.####..###..##..####.#.....###.\n"
     ]
    }
   ],
   "source": [
    "crt = \"\"\n",
    "x = 1\n",
    "cycle = -1\n",
    "i = 0\n",
    "wait = 0\n",
    "while(i < len(data) or wait != 0):\n",
    "    cycle += 1\n",
    "    if cycle%40 == 0:\n",
    "        crt += \"\\n\"\n",
    "        \n",
    "    if cycle%40 in range(x-1, x+2):\n",
    "        crt += '#'\n",
    "    else:\n",
    "        crt += '.'\n",
    "        \n",
    "    if wait:\n",
    "        wait -= 1\n",
    "        x += int(cmd[1])\n",
    "        continue\n",
    "    \n",
    "    cmd = data[i].split()\n",
    "    if cmd[0] == 'addx':\n",
    "        wait = 1\n",
    "    i += 1\n",
    "\n",
    "print(crt)"
   ]
  }
 ],
 "metadata": {
  "kernelspec": {
   "display_name": "Python 3",
   "language": "python",
   "name": "python3"
  },
  "language_info": {
   "codemirror_mode": {
    "name": "ipython",
    "version": 3
   },
   "file_extension": ".py",
   "mimetype": "text/x-python",
   "name": "python",
   "nbconvert_exporter": "python",
   "pygments_lexer": "ipython3",
   "version": "3.11.0"
  },
  "orig_nbformat": 4,
  "vscode": {
   "interpreter": {
    "hash": "11c9a8d9d183678ada4733d405ee5173ac35a7c5e5bcce99b2c90cd82f22ae56"
   }
  }
 },
 "nbformat": 4,
 "nbformat_minor": 2
}

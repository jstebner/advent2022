{
 "cells": [
  {
   "attachments": {},
   "cell_type": "markdown",
   "metadata": {},
   "source": [
    "# Part 1"
   ]
  },
  {
   "cell_type": "code",
   "execution_count": 27,
   "metadata": {},
   "outputs": [
    {
     "data": {
      "text/plain": [
       "'[[[[],[10],[5,6,2],6],[2,[6,3],7,5,2],[6,10,5,[],6],[[5,9],5]],[],[[10],[[8,9,1,7],[0,8,10,10]],8],[2,[[0,5],[0,6],[],0,[7,8,4]],[[4,1,7,6],4,8,[],[5,7,7,0]],10],[[[],0,4,3],5]]\\n[[5,10,[[4,5],8,[0,7,5]],[6,[5,6,4,0,7],1]]]'"
      ]
     },
     "execution_count": 27,
     "metadata": {},
     "output_type": "execute_result"
    }
   ],
   "source": [
    "data = open('input.txt').read()[:-1].split('\\n\\n')\n",
    "data[0]"
   ]
  },
  {
   "cell_type": "code",
   "execution_count": 47,
   "metadata": {},
   "outputs": [],
   "source": [
    "import json\n",
    "\n",
    "def compare(l, r) -> bool:\n",
    "    # print(l, r, sep = ' - ')\n",
    "    if type(l) != type(r):\n",
    "        if type(l) != list:\n",
    "            l = [l]\n",
    "        else:\n",
    "            r = [r]\n",
    "            \n",
    "        return compare(l, r)\n",
    "\n",
    "    if type(l) == list: # r is list too\n",
    "        for l_i, r_i in zip(l, r):\n",
    "            if l_i == r_i:\n",
    "                # print(l_i, r_i, sep = ' - ')\n",
    "                continue\n",
    "            comparison = compare(l_i, r_i)\n",
    "            if comparison is not None:\n",
    "                return comparison\n",
    "        if len(l) == len(r):\n",
    "            return None\n",
    "        return len(l) < len(r)\n",
    "    \n",
    "    return l < r"
   ]
  },
  {
   "cell_type": "code",
   "execution_count": 48,
   "metadata": {},
   "outputs": [
    {
     "name": "stdout",
     "output_type": "stream",
     "text": [
      "6484\n"
     ]
    }
   ],
   "source": [
    "count = 0\n",
    "data_flat = list()\n",
    "for i, pair in enumerate(data):\n",
    "    l, r = pair.split('\\n')\n",
    "    l = eval(l)\n",
    "    r = eval(r)\n",
    "    data_flat += [l, r]\n",
    "    \n",
    "    cmp = compare(l, r)\n",
    "    count += (i+1) * cmp\n",
    "    \n",
    "print(count)"
   ]
  },
  {
   "attachments": {},
   "cell_type": "markdown",
   "metadata": {},
   "source": [
    "# Part 2"
   ]
  },
  {
   "cell_type": "code",
   "execution_count": 55,
   "metadata": {},
   "outputs": [
    {
     "name": "stdout",
     "output_type": "stream",
     "text": [
      "19305\n"
     ]
    }
   ],
   "source": [
    "dividers = [[[2]], [[6]]]\n",
    "decoder_key = 1\n",
    "for div in dividers:\n",
    "    pos = 1\n",
    "    for packet in data_flat+dividers:\n",
    "        if compare(packet, div):\n",
    "            pos += 1\n",
    "    decoder_key *= pos\n",
    "print(decoder_key)"
   ]
  }
 ],
 "metadata": {
  "kernelspec": {
   "display_name": "Python 3",
   "language": "python",
   "name": "python3"
  },
  "language_info": {
   "codemirror_mode": {
    "name": "ipython",
    "version": 3
   },
   "file_extension": ".py",
   "mimetype": "text/x-python",
   "name": "python",
   "nbconvert_exporter": "python",
   "pygments_lexer": "ipython3",
   "version": "3.11.0"
  },
  "orig_nbformat": 4,
  "vscode": {
   "interpreter": {
    "hash": "11c9a8d9d183678ada4733d405ee5173ac35a7c5e5bcce99b2c90cd82f22ae56"
   }
  }
 },
 "nbformat": 4,
 "nbformat_minor": 2
}

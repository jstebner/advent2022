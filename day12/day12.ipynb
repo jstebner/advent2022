{
 "cells": [
  {
   "attachments": {},
   "cell_type": "markdown",
   "metadata": {},
   "source": [
    "# Part 1"
   ]
  },
  {
   "cell_type": "code",
   "execution_count": 62,
   "metadata": {},
   "outputs": [],
   "source": [
    "data = open(\"input.txt\").read()[:-1].split('\\n')\n",
    "for y in range(len(data)):\n",
    "    for x in range(len(data[0])):\n",
    "        if data[y][x] == 'S':\n",
    "            S = (y, x)\n",
    "            data[y] = data[y].replace('S','a')\n",
    "        if data[y][x] == 'E':\n",
    "            E = (y, x)\n",
    "            data[y] = data[y].replace('E','z')\n",
    "data = [[ord(chr)-97 for chr in row] for row in data]"
   ]
  },
  {
   "cell_type": "code",
   "execution_count": 86,
   "metadata": {},
   "outputs": [],
   "source": [
    "class Q: # tried using a prior q first but ig my heuristic function sucked cuz it didnt work\n",
    "    def __init__(self):\n",
    "        self.queue = list()\n",
    "\n",
    "    def __str__(self):\n",
    "        return str(self.queue)\n",
    "    \n",
    "    def __len__(self):\n",
    "        return len(self.queue)\n",
    "    \n",
    "    def add(self, coord):\n",
    "        self.queue.append(coord)\n",
    "    \n",
    "    def pop(self):\n",
    "        return self.queue.pop(0)\n",
    "            "
   ]
  },
  {
   "cell_type": "code",
   "execution_count": 111,
   "metadata": {},
   "outputs": [],
   "source": [
    "def make_trace(S, E):\n",
    "    HEIGHT = len(data)\n",
    "    WIDTH = len(data[0])\n",
    "\n",
    "    seen = dict()\n",
    "    q = Q()\n",
    "    q.add(S)\n",
    "    count = 0\n",
    "    while len(q):\n",
    "        count += 1\n",
    "        c = q.pop()\n",
    "        if c == E:\n",
    "            break\n",
    "        \n",
    "        for d in [(-1,0),(1,0),(0,-1),(0,1)]:\n",
    "            n = (c[0]+d[0], c[1]+d[1])\n",
    "            if any([\n",
    "                n in seen,\n",
    "                n[0] < 0,\n",
    "                n[0] >= HEIGHT,\n",
    "                n[1] < 0,\n",
    "                n[1] >= WIDTH\n",
    "            ]) or data[n[0]][n[1]] > data[c[0]][c[1]] + 1:\n",
    "                continue\n",
    "            \n",
    "            q.add(n)\n",
    "            seen[n] = c\n",
    "    return seen\n",
    "        \n",
    "def get_length(S, E):\n",
    "    trace = make_trace(S, E)\n",
    "    def traceback(C):\n",
    "        if C == S:\n",
    "            return 0\n",
    "        if C not in trace:\n",
    "            return 1000\n",
    "        return 1 + traceback(trace[C])\n",
    "    return traceback(E)"
   ]
  },
  {
   "cell_type": "code",
   "execution_count": 112,
   "metadata": {},
   "outputs": [
    {
     "name": "stdout",
     "output_type": "stream",
     "text": [
      "380\n"
     ]
    }
   ],
   "source": [
    "print(get_length(S, E))"
   ]
  },
  {
   "attachments": {},
   "cell_type": "markdown",
   "metadata": {},
   "source": [
    "# Part 2"
   ]
  },
  {
   "cell_type": "code",
   "execution_count": 114,
   "metadata": {},
   "outputs": [
    {
     "name": "stdout",
     "output_type": "stream",
     "text": [
      "375\n"
     ]
    }
   ],
   "source": [
    "# theres probably faster ways to do this but im tired\n",
    "smol = 380\n",
    "for i, r in enumerate(data):\n",
    "    for j, h in enumerate(r):\n",
    "        if h == 0:\n",
    "            smol = min(get_length((i,j), E), smol)\n",
    "print(smol)"
   ]
  }
 ],
 "metadata": {
  "kernelspec": {
   "display_name": "Python 3",
   "language": "python",
   "name": "python3"
  },
  "language_info": {
   "codemirror_mode": {
    "name": "ipython",
    "version": 3
   },
   "file_extension": ".py",
   "mimetype": "text/x-python",
   "name": "python",
   "nbconvert_exporter": "python",
   "pygments_lexer": "ipython3",
   "version": "3.11.0 (main, Oct 24 2022, 18:26:48) [MSC v.1933 64 bit (AMD64)]"
  },
  "orig_nbformat": 4,
  "vscode": {
   "interpreter": {
    "hash": "11c9a8d9d183678ada4733d405ee5173ac35a7c5e5bcce99b2c90cd82f22ae56"
   }
  }
 },
 "nbformat": 4,
 "nbformat_minor": 2
}

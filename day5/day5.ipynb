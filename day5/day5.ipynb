{
 "cells": [
  {
   "cell_type": "markdown",
   "metadata": {},
   "source": [
    "# Part 1"
   ]
  },
  {
   "cell_type": "code",
   "execution_count": 148,
   "metadata": {},
   "outputs": [],
   "source": [
    "cargo, procedure = open(\"input.txt\").read()[:-1].split(\"\\n\\n\")\n",
    "\n",
    "# preprocess input, ik its ugly but it works\n",
    "cargo = list(\n",
    "    zip(*( # gets transverse of list\n",
    "            cargo.split(\"\\n\")[-2::-1] # gets reverse order of list sans last row (crate numbers)\n",
    "        ))\n",
    "    )[1:-1:4] # gets rows of list that actually contains data (every fourth row from second to second-to-last)\n",
    "procedure = [\n",
    "    list(map(int, row.split()[1::2])) # gets numbers of row since they follow same structure (move X from Y to Z)\n",
    "    for row in procedure.split(\"\\n\")\n",
    "    ]"
   ]
  },
  {
   "cell_type": "code",
   "execution_count": 149,
   "metadata": {},
   "outputs": [],
   "source": [
    "class CrateMover:\n",
    "    def __init__(self, model_num):\n",
    "        self.direction = -2*(model_num-9000) + 1 # turns 9000 -> 1, 9001 -> -1 \n",
    "        \n",
    "    def __str__(self):\n",
    "        return \"\\n\".join(f'{k} : {v}' for k, v in self.crates.items())\n",
    "    \n",
    "    def load(self, cargo):\n",
    "        self.crates = {i+1:list(filter(lambda x: x != ' ', crate)) for i, crate in enumerate(cargo)}\n",
    "    \n",
    "    def move(self, instruction):\n",
    "        m, f, t = instruction\n",
    "        # tried using list slicing before but it got really messy with pointers, plus this way is a lot cleaner\n",
    "        self.crates[t] += [self.crates[f].pop() for _ in range(m)][::self.direction]\n",
    "    \n",
    "    def process(self, instructions):\n",
    "        for instr in instructions:\n",
    "            self.move(instr)\n",
    "    \n",
    "    def tops(self):\n",
    "        return \"\".join(crate[-1] for crate in self.crates.values() if crate)"
   ]
  },
  {
   "cell_type": "code",
   "execution_count": 150,
   "metadata": {},
   "outputs": [
    {
     "name": "stdout",
     "output_type": "stream",
     "text": [
      "RNZLFZSJH\n"
     ]
    }
   ],
   "source": [
    "CrateMover9000 = CrateMover(9000)\n",
    "CrateMover9000.load(cargo)\n",
    "CrateMover9000.process(procedure)\n",
    "print(CrateMover9000.tops())"
   ]
  },
  {
   "cell_type": "markdown",
   "metadata": {},
   "source": [
    "# Part 2"
   ]
  },
  {
   "cell_type": "code",
   "execution_count": 151,
   "metadata": {},
   "outputs": [
    {
     "name": "stdout",
     "output_type": "stream",
     "text": [
      "CNSFCGJSM\n"
     ]
    }
   ],
   "source": [
    "# added model number to CrateMover crane\n",
    "# also i know that i could give direction as arg to .process() \n",
    "#   but i thought itd be more thematic and cuter \n",
    "CrateMover9001 = CrateMover(9001)\n",
    "CrateMover9001.load(cargo)\n",
    "CrateMover9001.process(procedure)\n",
    "print(CrateMover9001.tops())"
   ]
  }
 ],
 "metadata": {
  "kernelspec": {
   "display_name": "Python 3.11.0 64-bit",
   "language": "python",
   "name": "python3"
  },
  "language_info": {
   "codemirror_mode": {
    "name": "ipython",
    "version": 3
   },
   "file_extension": ".py",
   "mimetype": "text/x-python",
   "name": "python",
   "nbconvert_exporter": "python",
   "pygments_lexer": "ipython3",
   "version": "3.11.0"
  },
  "orig_nbformat": 4,
  "vscode": {
   "interpreter": {
    "hash": "11c9a8d9d183678ada4733d405ee5173ac35a7c5e5bcce99b2c90cd82f22ae56"
   }
  }
 },
 "nbformat": 4,
 "nbformat_minor": 2
}
